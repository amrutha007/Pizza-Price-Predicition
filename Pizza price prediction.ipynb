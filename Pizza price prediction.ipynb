{
 "cells": [
  {
   "cell_type": "code",
   "execution_count": 1,
   "id": "d591894b",
   "metadata": {},
   "outputs": [],
   "source": [
    "import numpy as np\n",
    "import pandas as pd\n",
    "import seaborn as sns\n",
    "from matplotlib import pyplot as plt \n",
    "import warnings\n",
    "warnings.filterwarnings('ignore')\n",
    "from sklearn.linear_model import LinearRegression\n",
    "from scipy.stats import pearsonr\n",
    "from scipy import stats\n",
    "import statsmodels.formula.api as smf\n",
    "import statsmodels.api as sm\n",
    "from statsmodels.formula.api import ols\n",
    "from statsmodels.stats.multicomp import pairwise_tukeyhsd\n",
    "from scipy.stats import chi2, chi2_contingency \n",
    "from sklearn.model_selection import train_test_split"
   ]
  },
  {
   "cell_type": "code",
   "execution_count": 2,
   "id": "53b50dec",
   "metadata": {},
   "outputs": [
    {
     "data": {
      "text/html": [
       "<div>\n",
       "<style scoped>\n",
       "    .dataframe tbody tr th:only-of-type {\n",
       "        vertical-align: middle;\n",
       "    }\n",
       "\n",
       "    .dataframe tbody tr th {\n",
       "        vertical-align: top;\n",
       "    }\n",
       "\n",
       "    .dataframe thead th {\n",
       "        text-align: right;\n",
       "    }\n",
       "</style>\n",
       "<table border=\"1\" class=\"dataframe\">\n",
       "  <thead>\n",
       "    <tr style=\"text-align: right;\">\n",
       "      <th></th>\n",
       "      <th>company</th>\n",
       "      <th>price_rupiah</th>\n",
       "      <th>diameter</th>\n",
       "      <th>topping</th>\n",
       "      <th>variant</th>\n",
       "      <th>size</th>\n",
       "      <th>extra_sauce</th>\n",
       "      <th>extra_cheese</th>\n",
       "    </tr>\n",
       "  </thead>\n",
       "  <tbody>\n",
       "    <tr>\n",
       "      <th>0</th>\n",
       "      <td>A</td>\n",
       "      <td>Rp235,000</td>\n",
       "      <td>22.0</td>\n",
       "      <td>chicken</td>\n",
       "      <td>double_signature</td>\n",
       "      <td>jumbo</td>\n",
       "      <td>yes</td>\n",
       "      <td>yes</td>\n",
       "    </tr>\n",
       "    <tr>\n",
       "      <th>1</th>\n",
       "      <td>A</td>\n",
       "      <td>Rp198,000</td>\n",
       "      <td>20.0</td>\n",
       "      <td>papperoni</td>\n",
       "      <td>double_signature</td>\n",
       "      <td>jumbo</td>\n",
       "      <td>yes</td>\n",
       "      <td>yes</td>\n",
       "    </tr>\n",
       "    <tr>\n",
       "      <th>2</th>\n",
       "      <td>A</td>\n",
       "      <td>Rp120,000</td>\n",
       "      <td>16.0</td>\n",
       "      <td>mushrooms</td>\n",
       "      <td>double_signature</td>\n",
       "      <td>reguler</td>\n",
       "      <td>yes</td>\n",
       "      <td>yes</td>\n",
       "    </tr>\n",
       "    <tr>\n",
       "      <th>3</th>\n",
       "      <td>A</td>\n",
       "      <td>Rp155,000</td>\n",
       "      <td>14.0</td>\n",
       "      <td>smoked beef</td>\n",
       "      <td>double_signature</td>\n",
       "      <td>reguler</td>\n",
       "      <td>yes</td>\n",
       "      <td>no</td>\n",
       "    </tr>\n",
       "    <tr>\n",
       "      <th>4</th>\n",
       "      <td>A</td>\n",
       "      <td>Rp248,000</td>\n",
       "      <td>18.0</td>\n",
       "      <td>mozzarella</td>\n",
       "      <td>double_signature</td>\n",
       "      <td>jumbo</td>\n",
       "      <td>yes</td>\n",
       "      <td>no</td>\n",
       "    </tr>\n",
       "  </tbody>\n",
       "</table>\n",
       "</div>"
      ],
      "text/plain": [
       "  company price_rupiah  diameter      topping           variant     size  \\\n",
       "0       A    Rp235,000      22.0      chicken  double_signature    jumbo   \n",
       "1       A    Rp198,000      20.0    papperoni  double_signature    jumbo   \n",
       "2       A    Rp120,000      16.0    mushrooms  double_signature  reguler   \n",
       "3       A    Rp155,000      14.0  smoked beef  double_signature  reguler   \n",
       "4       A    Rp248,000      18.0   mozzarella  double_signature    jumbo   \n",
       "\n",
       "  extra_sauce extra_cheese  \n",
       "0         yes          yes  \n",
       "1         yes          yes  \n",
       "2         yes          yes  \n",
       "3         yes           no  \n",
       "4         yes           no  "
      ]
     },
     "execution_count": 2,
     "metadata": {},
     "output_type": "execute_result"
    }
   ],
   "source": [
    "df = pd.read_csv(r'C:\\Users\\User\\Desktop\\DATA SCIENCE\\Kaggle Projects\\Pizza price prediction\\pizza_v1.csv')\n",
    "df.head()"
   ]
  },
  {
   "cell_type": "code",
   "execution_count": 3,
   "id": "62d60bb7",
   "metadata": {},
   "outputs": [
    {
     "data": {
      "text/plain": [
       "(129, 8)"
      ]
     },
     "execution_count": 3,
     "metadata": {},
     "output_type": "execute_result"
    }
   ],
   "source": [
    "df.shape"
   ]
  },
  {
   "cell_type": "code",
   "execution_count": 4,
   "id": "9488186e",
   "metadata": {},
   "outputs": [
    {
     "name": "stdout",
     "output_type": "stream",
     "text": [
      "<class 'pandas.core.frame.DataFrame'>\n",
      "RangeIndex: 129 entries, 0 to 128\n",
      "Data columns (total 8 columns):\n",
      " #   Column        Non-Null Count  Dtype  \n",
      "---  ------        --------------  -----  \n",
      " 0   company       129 non-null    object \n",
      " 1   price_rupiah  129 non-null    object \n",
      " 2   diameter      129 non-null    float64\n",
      " 3   topping       129 non-null    object \n",
      " 4   variant       129 non-null    object \n",
      " 5   size          129 non-null    object \n",
      " 6   extra_sauce   129 non-null    object \n",
      " 7   extra_cheese  129 non-null    object \n",
      "dtypes: float64(1), object(7)\n",
      "memory usage: 8.2+ KB\n"
     ]
    }
   ],
   "source": [
    "df.info()"
   ]
  },
  {
   "cell_type": "code",
   "execution_count": 5,
   "id": "4b61f914",
   "metadata": {},
   "outputs": [
    {
     "data": {
      "text/plain": [
       "company         0\n",
       "price_rupiah    0\n",
       "diameter        0\n",
       "topping         0\n",
       "variant         0\n",
       "size            0\n",
       "extra_sauce     0\n",
       "extra_cheese    0\n",
       "dtype: int64"
      ]
     },
     "execution_count": 5,
     "metadata": {},
     "output_type": "execute_result"
    }
   ],
   "source": [
    "df.isnull().sum()"
   ]
  },
  {
   "cell_type": "code",
   "execution_count": 6,
   "id": "ff9170a9",
   "metadata": {},
   "outputs": [
    {
     "data": {
      "text/html": [
       "<div>\n",
       "<style scoped>\n",
       "    .dataframe tbody tr th:only-of-type {\n",
       "        vertical-align: middle;\n",
       "    }\n",
       "\n",
       "    .dataframe tbody tr th {\n",
       "        vertical-align: top;\n",
       "    }\n",
       "\n",
       "    .dataframe thead th {\n",
       "        text-align: right;\n",
       "    }\n",
       "</style>\n",
       "<table border=\"1\" class=\"dataframe\">\n",
       "  <thead>\n",
       "    <tr style=\"text-align: right;\">\n",
       "      <th></th>\n",
       "      <th>count</th>\n",
       "      <th>mean</th>\n",
       "      <th>std</th>\n",
       "      <th>min</th>\n",
       "      <th>25%</th>\n",
       "      <th>50%</th>\n",
       "      <th>75%</th>\n",
       "      <th>max</th>\n",
       "    </tr>\n",
       "  </thead>\n",
       "  <tbody>\n",
       "    <tr>\n",
       "      <th>diameter</th>\n",
       "      <td>129.0</td>\n",
       "      <td>12.976744</td>\n",
       "      <td>3.272674</td>\n",
       "      <td>8.0</td>\n",
       "      <td>12.0</td>\n",
       "      <td>12.0</td>\n",
       "      <td>14.0</td>\n",
       "      <td>22.0</td>\n",
       "    </tr>\n",
       "  </tbody>\n",
       "</table>\n",
       "</div>"
      ],
      "text/plain": [
       "          count       mean       std  min   25%   50%   75%   max\n",
       "diameter  129.0  12.976744  3.272674  8.0  12.0  12.0  14.0  22.0"
      ]
     },
     "execution_count": 6,
     "metadata": {},
     "output_type": "execute_result"
    }
   ],
   "source": [
    "df.describe().T"
   ]
  },
  {
   "cell_type": "markdown",
   "id": "998a5dd3",
   "metadata": {},
   "source": [
    "### Changing the data type "
   ]
  },
  {
   "cell_type": "code",
   "execution_count": 7,
   "id": "48c1c837",
   "metadata": {},
   "outputs": [],
   "source": [
    "#Changing the datatype of the diameter column\n",
    "df['diameter']=df['diameter'].astype('float64')"
   ]
  },
  {
   "cell_type": "code",
   "execution_count": 8,
   "id": "81cb4f09",
   "metadata": {},
   "outputs": [],
   "source": [
    "#Removing Rp in price_rupiah column and changing its datatype\n",
    "df['price_rupiah']=df['price_rupiah'].str.replace('Rp','').str.replace(',','')"
   ]
  },
  {
   "cell_type": "code",
   "execution_count": 9,
   "id": "c599afef",
   "metadata": {},
   "outputs": [],
   "source": [
    "df['price_rupiah']=df['price_rupiah'].astype('float64')"
   ]
  },
  {
   "cell_type": "markdown",
   "id": "2d4ef442",
   "metadata": {},
   "source": [
    "### Descriptive Statistics "
   ]
  },
  {
   "cell_type": "code",
   "execution_count": 10,
   "id": "15f1f212",
   "metadata": {},
   "outputs": [
    {
     "data": {
      "text/html": [
       "<div>\n",
       "<style scoped>\n",
       "    .dataframe tbody tr th:only-of-type {\n",
       "        vertical-align: middle;\n",
       "    }\n",
       "\n",
       "    .dataframe tbody tr th {\n",
       "        vertical-align: top;\n",
       "    }\n",
       "\n",
       "    .dataframe thead th {\n",
       "        text-align: right;\n",
       "    }\n",
       "</style>\n",
       "<table border=\"1\" class=\"dataframe\">\n",
       "  <thead>\n",
       "    <tr style=\"text-align: right;\">\n",
       "      <th></th>\n",
       "      <th>count</th>\n",
       "      <th>mean</th>\n",
       "      <th>std</th>\n",
       "      <th>min</th>\n",
       "      <th>25%</th>\n",
       "      <th>50%</th>\n",
       "      <th>75%</th>\n",
       "      <th>max</th>\n",
       "    </tr>\n",
       "  </thead>\n",
       "  <tbody>\n",
       "    <tr>\n",
       "      <th>price_rupiah</th>\n",
       "      <td>129.0</td>\n",
       "      <td>87151.162791</td>\n",
       "      <td>44706.097732</td>\n",
       "      <td>23500.0</td>\n",
       "      <td>51000.0</td>\n",
       "      <td>78000.0</td>\n",
       "      <td>105000.0</td>\n",
       "      <td>248000.0</td>\n",
       "    </tr>\n",
       "    <tr>\n",
       "      <th>diameter</th>\n",
       "      <td>129.0</td>\n",
       "      <td>12.976744</td>\n",
       "      <td>3.272674</td>\n",
       "      <td>8.0</td>\n",
       "      <td>12.0</td>\n",
       "      <td>12.0</td>\n",
       "      <td>14.0</td>\n",
       "      <td>22.0</td>\n",
       "    </tr>\n",
       "  </tbody>\n",
       "</table>\n",
       "</div>"
      ],
      "text/plain": [
       "              count          mean           std      min      25%      50%  \\\n",
       "price_rupiah  129.0  87151.162791  44706.097732  23500.0  51000.0  78000.0   \n",
       "diameter      129.0     12.976744      3.272674      8.0     12.0     12.0   \n",
       "\n",
       "                   75%       max  \n",
       "price_rupiah  105000.0  248000.0  \n",
       "diameter          14.0      22.0  "
      ]
     },
     "execution_count": 10,
     "metadata": {},
     "output_type": "execute_result"
    }
   ],
   "source": [
    "df.describe().T"
   ]
  },
  {
   "cell_type": "code",
   "execution_count": 11,
   "id": "386dd671",
   "metadata": {},
   "outputs": [
    {
     "data": {
      "text/plain": [
       "<seaborn.axisgrid.PairGrid at 0x189ce7fe940>"
      ]
     },
     "execution_count": 11,
     "metadata": {},
     "output_type": "execute_result"
    },
    {
     "data": {
      "image/png": "[encoded data removed]",
      "text/plain": [
       "<Figure size 360x360 with 6 Axes>"
      ]
     },
     "metadata": {
      "needs_background": "light"
     },
     "output_type": "display_data"
    }
   ],
   "source": [
    "sns.pairplot(df)"
   ]
  },
  {
   "cell_type": "markdown",
   "id": "6530fad7",
   "metadata": {},
   "source": [
    "### price_rupiah [Target Variable]"
   ]
  },
  {
   "cell_type": "code",
   "execution_count": 14,
   "id": "99c7e55b",
   "metadata": {},
   "outputs": [
    {
     "data": {
      "image/png": "[encoded data removed]",
      "text/plain": [
       "<Figure size 1008x360 with 1 Axes>"
      ]
     },
     "metadata": {},
     "output_type": "display_data"
    }
   ],
   "source": [
    "plt.figure(figsize=(14,5))\n",
    "sns.boxplot(df.price_rupiah,color='r')\n",
    "sns.set_style('darkgrid')\n",
    "plt.title('Boxplot of price_rupiah')\n",
    "plt.show()"
   ]
  },
  {
   "cell_type": "code",
   "execution_count": 15,
   "id": "91d67e50",
   "metadata": {},
   "outputs": [
    {
     "data": {
      "text/plain": [
       "7"
      ]
     },
     "execution_count": 15,
     "metadata": {},
     "output_type": "execute_result"
    }
   ],
   "source": [
    "IQR = df.price_rupiah.describe()['75%'] - df.price_rupiah.describe()['25%']\n",
    "ul = df.price_rupiah.describe()['75%'] + 1.5 * IQR\n",
    "len(df[df.price_rupiah > ul])"
   ]
  },
  {
   "cell_type": "markdown",
   "id": "ed229c61",
   "metadata": {},
   "source": [
    "* 7 outliers are there"
   ]
  },
  {
   "cell_type": "code",
   "execution_count": 16,
   "id": "d0fa37c2",
   "metadata": {},
   "outputs": [],
   "source": [
    "q3 = df.price_rupiah.quantile(0.75)\n",
    "q1 = df.price_rupiah.quantile(0.25)\n",
    "IQR = q3 - q1\n",
    "ul = q3 + (1.5 * IQR)\n",
    "ul\n",
    "outliers = df.price_rupiah > ul"
   ]
  },
  {
   "cell_type": "code",
   "execution_count": 17,
   "id": "dc9c0c7d",
   "metadata": {},
   "outputs": [],
   "source": [
    "df.drop(index = df[outliers].index, inplace = True )"
   ]
  },
  {
   "cell_type": "code",
   "execution_count": 18,
   "id": "fdc46c21",
   "metadata": {},
   "outputs": [
    {
     "data": {
      "image/png": "[encoded data removed]",
      "text/plain": [
       "<Figure size 1008x360 with 1 Axes>"
      ]
     },
     "metadata": {},
     "output_type": "display_data"
    }
   ],
   "source": [
    "plt.figure(figsize=(14,5))\n",
    "sns.boxplot(df.price_rupiah,color='g')\n",
    "sns.set_style('darkgrid')\n",
    "plt.title('Boxplot of price_rupiah')\n",
    "plt.show()"
   ]
  },
  {
   "cell_type": "code",
   "execution_count": 19,
   "id": "3d849298",
   "metadata": {
    "scrolled": true
   },
   "outputs": [
    {
     "data": {
      "image/png": "[encoded data removed]",
      "text/plain": [
       "<Figure size 360x360 with 1 Axes>"
      ]
     },
     "metadata": {},
     "output_type": "display_data"
    }
   ],
   "source": [
    "sns.displot(df.price_rupiah)\n",
    "plt.title('Histogram of price_rupiah column')\n",
    "plt.show()"
   ]
  },
  {
   "cell_type": "code",
   "execution_count": 20,
   "id": "b0056e55",
   "metadata": {},
   "outputs": [
    {
     "data": {
      "text/plain": [
       "<AxesSubplot:xlabel='price_rupiah', ylabel='Density'>"
      ]
     },
     "execution_count": 20,
     "metadata": {},
     "output_type": "execute_result"
    },
    {
     "data": {
      "image/png": "[encoded data removed]",
      "text/plain": [
       "<Figure size 432x288 with 1 Axes>"
      ]
     },
     "metadata": {},
     "output_type": "display_data"
    }
   ],
   "source": [
    "sns.distplot(df.price_rupiah)"
   ]
  },
  {
   "cell_type": "markdown",
   "id": "fee4ccd9",
   "metadata": {},
   "source": [
    "### diameter "
   ]
  },
  {
   "cell_type": "code",
   "execution_count": 21,
   "id": "f893e661",
   "metadata": {},
   "outputs": [
    {
     "data": {
      "text/plain": [
       "diameter\n",
       "8.0      70000.0\n",
       "8.5      37841.0\n",
       "12.0     74633.0\n",
       "14.0     93417.0\n",
       "16.0    112000.0\n",
       "16.5    149000.0\n",
       "17.0     99800.0\n",
       "18.5    140000.0\n",
       "Name: price_rupiah, dtype: float64"
      ]
     },
     "execution_count": 21,
     "metadata": {},
     "output_type": "execute_result"
    }
   ],
   "source": [
    "round(df.price_rupiah.groupby(df.diameter).mean())"
   ]
  },
  {
   "cell_type": "code",
   "execution_count": 22,
   "id": "d47cbef7",
   "metadata": {
    "scrolled": true
   },
   "outputs": [
    {
     "data": {
      "image/png": "[encoded data removed]",
      "text/plain": [
       "<Figure size 720x360 with 1 Axes>"
      ]
     },
     "metadata": {},
     "output_type": "display_data"
    }
   ],
   "source": [
    "plt.figure(figsize=(10,5))\n",
    "sns.boxplot(df.diameter,color='y')\n",
    "sns.set_style('darkgrid')\n",
    "plt.title('Boxplot of price_rupiah')\n",
    "plt.show()"
   ]
  },
  {
   "cell_type": "code",
   "execution_count": 23,
   "id": "e88cbf73",
   "metadata": {},
   "outputs": [],
   "source": [
    "q3 = df.diameter.quantile(0.75)\n",
    "q1 = df.diameter.quantile(0.25)\n",
    "IQR = q3 - q1\n",
    "ll = q3 - (1.5 * IQR)\n",
    "ll\n",
    "outliers = df.diameter < ll\n",
    "df.drop(index = df[outliers].index, inplace = True )"
   ]
  },
  {
   "cell_type": "code",
   "execution_count": 24,
   "id": "c411490d",
   "metadata": {},
   "outputs": [
    {
     "data": {
      "image/png": "[encoded data removed]",
      "text/plain": [
       "<Figure size 720x360 with 1 Axes>"
      ]
     },
     "metadata": {},
     "output_type": "display_data"
    }
   ],
   "source": [
    "plt.figure(figsize=(10,5))\n",
    "sns.boxplot(df.diameter,color='y')\n",
    "sns.set_style('whitegrid')\n",
    "plt.title('Boxplot of price_rupiah')\n",
    "plt.show()"
   ]
  },
  {
   "cell_type": "code",
   "execution_count": 25,
   "id": "db92f0ec",
   "metadata": {},
   "outputs": [
    {
     "data": {
      "image/png": "[encoded data removed]",
      "text/plain": [
       "<Figure size 360x360 with 1 Axes>"
      ]
     },
     "metadata": {},
     "output_type": "display_data"
    }
   ],
   "source": [
    "sns.displot(df.diameter)\n",
    "plt.title('Histogram of diameter column')\n",
    "plt.show()"
   ]
  },
  {
   "cell_type": "code",
   "execution_count": 26,
   "id": "c233ff15",
   "metadata": {
    "scrolled": true
   },
   "outputs": [
    {
     "data": {
      "text/plain": [
       "<Figure size 720x360 with 0 Axes>"
      ]
     },
     "metadata": {},
     "output_type": "display_data"
    },
    {
     "data": {
      "image/png": "[encoded data removed]",
      "text/plain": [
       "<Figure size 360x360 with 1 Axes>"
      ]
     },
     "metadata": {},
     "output_type": "display_data"
    }
   ],
   "source": [
    "plt.figure(figsize=(10,5))\n",
    "sns.catplot(x='price_rupiah',y='diameter',data=df)\n",
    "plt.title('Price(rupiah) vs diameter')\n",
    "plt.show()"
   ]
  },
  {
   "cell_type": "code",
   "execution_count": 27,
   "id": "a6a5d831",
   "metadata": {},
   "outputs": [
    {
     "data": {
      "text/plain": [
       "<AxesSubplot:xlabel='diameter', ylabel='Density'>"
      ]
     },
     "execution_count": 27,
     "metadata": {},
     "output_type": "execute_result"
    },
    {
     "data": {
      "image/png": "[encoded data removed]",
      "text/plain": [
       "<Figure size 432x288 with 1 Axes>"
      ]
     },
     "metadata": {},
     "output_type": "display_data"
    }
   ],
   "source": [
    "sns.distplot(df.diameter)"
   ]
  },
  {
   "cell_type": "code",
   "execution_count": 28,
   "id": "381239fe",
   "metadata": {},
   "outputs": [
    {
     "name": "stdout",
     "output_type": "stream",
     "text": [
      "Pearson correlation :  0.6350481751305213\n"
     ]
    }
   ],
   "source": [
    "#Checking if diameter is a good predictor or not using pearson's correlation test\n",
    "corr,_= pearsonr(df.diameter, df.price_rupiah)\n",
    "print('Pearson correlation : ',corr)"
   ]
  },
  {
   "cell_type": "markdown",
   "id": "94f84a61",
   "metadata": {},
   "source": [
    "### company "
   ]
  },
  {
   "cell_type": "code",
   "execution_count": 29,
   "id": "24126502",
   "metadata": {},
   "outputs": [
    {
     "data": {
      "text/plain": [
       "E    24\n",
       "B    20\n",
       "C    20\n",
       "A    17\n",
       "D    15\n",
       "Name: company, dtype: int64"
      ]
     },
     "execution_count": 29,
     "metadata": {},
     "output_type": "execute_result"
    }
   ],
   "source": [
    "df.company.value_counts()"
   ]
  },
  {
   "cell_type": "code",
   "execution_count": 30,
   "id": "58bd1bd6",
   "metadata": {},
   "outputs": [
    {
     "data": {
      "image/png": "[encoded data removed]",
      "text/plain": [
       "<Figure size 720x360 with 1 Axes>"
      ]
     },
     "metadata": {},
     "output_type": "display_data"
    }
   ],
   "source": [
    "plt.figure(figsize=(10,5))\n",
    "sns.countplot(df.company)\n",
    "plt.title('Bar plot of company')\n",
    "plt.show()"
   ]
  },
  {
   "cell_type": "code",
   "execution_count": 31,
   "id": "72971a3a",
   "metadata": {},
   "outputs": [
    {
     "data": {
      "image/png": "[encoded data removed]",
      "text/plain": [
       "<Figure size 720x360 with 1 Axes>"
      ]
     },
     "metadata": {},
     "output_type": "display_data"
    }
   ],
   "source": [
    "plt.figure(figsize=(10,5))\n",
    "sns.boxplot(x = 'company', y= 'price_rupiah', data = df)\n",
    "plt.xlabel('Company', color = \"r\")\n",
    "plt.ylabel('Price(rupaih)', color = 'r')\n",
    "plt.title(' Company Vs Price(rupaih)', color = 'r')\n",
    "plt.show()"
   ]
  },
  {
   "cell_type": "code",
   "execution_count": 32,
   "id": "9158b29d",
   "metadata": {
    "scrolled": true
   },
   "outputs": [
    {
     "data": {
      "text/html": [
       "<div>\n",
       "<style scoped>\n",
       "    .dataframe tbody tr th:only-of-type {\n",
       "        vertical-align: middle;\n",
       "    }\n",
       "\n",
       "    .dataframe tbody tr th {\n",
       "        vertical-align: top;\n",
       "    }\n",
       "\n",
       "    .dataframe thead th {\n",
       "        text-align: right;\n",
       "    }\n",
       "</style>\n",
       "<table border=\"1\" class=\"dataframe\">\n",
       "  <thead>\n",
       "    <tr style=\"text-align: right;\">\n",
       "      <th></th>\n",
       "      <th>df</th>\n",
       "      <th>sum_sq</th>\n",
       "      <th>mean_sq</th>\n",
       "      <th>F</th>\n",
       "      <th>PR(&gt;F)</th>\n",
       "    </tr>\n",
       "  </thead>\n",
       "  <tbody>\n",
       "    <tr>\n",
       "      <th>company</th>\n",
       "      <td>4.0</td>\n",
       "      <td>1.686705e+10</td>\n",
       "      <td>4.216762e+09</td>\n",
       "      <td>6.543318</td>\n",
       "      <td>0.000113</td>\n",
       "    </tr>\n",
       "    <tr>\n",
       "      <th>Residual</th>\n",
       "      <td>91.0</td>\n",
       "      <td>5.864386e+10</td>\n",
       "      <td>6.444380e+08</td>\n",
       "      <td>NaN</td>\n",
       "      <td>NaN</td>\n",
       "    </tr>\n",
       "  </tbody>\n",
       "</table>\n",
       "</div>"
      ],
      "text/plain": [
       "            df        sum_sq       mean_sq         F    PR(>F)\n",
       "company    4.0  1.686705e+10  4.216762e+09  6.543318  0.000113\n",
       "Residual  91.0  5.864386e+10  6.444380e+08       NaN       NaN"
      ]
     },
     "execution_count": 32,
     "metadata": {},
     "output_type": "execute_result"
    }
   ],
   "source": [
    "#Annova test\n",
    "from statsmodels.formula.api import ols\n",
    "mod = ols('price_rupiah ~ company',data = df).fit()\n",
    "sm.stats.anova_lm(mod)"
   ]
  },
  {
   "cell_type": "code",
   "execution_count": 33,
   "id": "f3bd4784",
   "metadata": {},
   "outputs": [
    {
     "name": "stdout",
     "output_type": "stream",
     "text": [
      "      Multiple Comparison of Means - Tukey HSD, FWER=0.05      \n",
      "===============================================================\n",
      "group1 group2   meandiff  p-adj     lower       upper    reject\n",
      "---------------------------------------------------------------\n",
      "     A      B -35969.1176  0.001 -59277.0826 -12661.1527   True\n",
      "     A      C -34594.1176  0.001 -57902.0826 -11286.1527   True\n",
      "     A      D -21294.1176 0.1334 -46323.3685   3735.1332  False\n",
      "     A      E  -34189.951  0.001 -56587.7219   -11792.18   True\n",
      "     B      C      1375.0    0.9 -20968.0754  23718.0754  False\n",
      "     B      D     14675.0 0.4453  -9458.2797  38808.2797  False\n",
      "     B      E   1779.1667    0.9 -19612.6994  23171.0328  False\n",
      "     C      D     13300.0 0.5378 -10833.2797  37433.2797  False\n",
      "     C      E    404.1667    0.9 -20987.6994  21796.0328  False\n",
      "     D      E -12895.8333 0.5324 -36151.2436  10359.5769  False\n",
      "---------------------------------------------------------------\n"
     ]
    }
   ],
   "source": [
    "rslt = pairwise_tukeyhsd(df.price_rupiah, df.company, alpha = 0.05)\n",
    "print(rslt)"
   ]
  },
  {
   "cell_type": "markdown",
   "id": "06969af5",
   "metadata": {},
   "source": [
    "* p < 0.05 therefore statistically it is a good predictor."
   ]
  },
  {
   "cell_type": "markdown",
   "id": "fb6c99d9",
   "metadata": {},
   "source": [
    "### topping  "
   ]
  },
  {
   "cell_type": "code",
   "execution_count": 34,
   "id": "64e63be0",
   "metadata": {
    "scrolled": true
   },
   "outputs": [
    {
     "data": {
      "text/plain": [
       "chicken         22\n",
       "mozzarella      17\n",
       "mushrooms       16\n",
       "smoked beef     16\n",
       "vegetables       6\n",
       "tuna             6\n",
       "meat             5\n",
       "black papper     3\n",
       "beef             2\n",
       "sausage          2\n",
       "onion            1\n",
       "Name: topping, dtype: int64"
      ]
     },
     "execution_count": 34,
     "metadata": {},
     "output_type": "execute_result"
    }
   ],
   "source": [
    "df.topping.value_counts()"
   ]
  },
  {
   "cell_type": "code",
   "execution_count": 35,
   "id": "53f1eeef",
   "metadata": {},
   "outputs": [
    {
     "data": {
      "image/png": "[encoded data removed]",
      "text/plain": [
       "<Figure size 720x360 with 1 Axes>"
      ]
     },
     "metadata": {},
     "output_type": "display_data"
    }
   ],
   "source": [
    "plt.figure(figsize=(10,5))\n",
    "sns.countplot(df.topping)\n",
    "plt.title('Bar plot of topping')\n",
    "plt.xticks(rotation = 90)\n",
    "plt.show()\n"
   ]
  },
  {
   "cell_type": "code",
   "execution_count": 36,
   "id": "76a0f21a",
   "metadata": {},
   "outputs": [
    {
     "data": {
      "image/png": "[encoded data removed]",
      "text/plain": [
       "<Figure size 720x360 with 1 Axes>"
      ]
     },
     "metadata": {},
     "output_type": "display_data"
    }
   ],
   "source": [
    "plt.figure(figsize=(10,5))\n",
    "sns.countplot(df.topping,hue=df.price_rupiah,palette='bright')\n",
    "plt.legend(loc='center left', bbox_to_anchor=(1, 1))\n",
    "plt.title('Topping vs Price(Rupiah)')\n",
    "plt.show()"
   ]
  },
  {
   "cell_type": "code",
   "execution_count": 37,
   "id": "3878f660",
   "metadata": {
    "scrolled": true
   },
   "outputs": [
    {
     "data": {
      "text/html": [
       "<div>\n",
       "<style scoped>\n",
       "    .dataframe tbody tr th:only-of-type {\n",
       "        vertical-align: middle;\n",
       "    }\n",
       "\n",
       "    .dataframe tbody tr th {\n",
       "        vertical-align: top;\n",
       "    }\n",
       "\n",
       "    .dataframe thead th {\n",
       "        text-align: right;\n",
       "    }\n",
       "</style>\n",
       "<table border=\"1\" class=\"dataframe\">\n",
       "  <thead>\n",
       "    <tr style=\"text-align: right;\">\n",
       "      <th></th>\n",
       "      <th>df</th>\n",
       "      <th>sum_sq</th>\n",
       "      <th>mean_sq</th>\n",
       "      <th>F</th>\n",
       "      <th>PR(&gt;F)</th>\n",
       "    </tr>\n",
       "  </thead>\n",
       "  <tbody>\n",
       "    <tr>\n",
       "      <th>topping</th>\n",
       "      <td>10.0</td>\n",
       "      <td>8.264386e+09</td>\n",
       "      <td>8.264386e+08</td>\n",
       "      <td>1.044623</td>\n",
       "      <td>0.41403</td>\n",
       "    </tr>\n",
       "    <tr>\n",
       "      <th>Residual</th>\n",
       "      <td>85.0</td>\n",
       "      <td>6.724652e+10</td>\n",
       "      <td>7.911355e+08</td>\n",
       "      <td>NaN</td>\n",
       "      <td>NaN</td>\n",
       "    </tr>\n",
       "  </tbody>\n",
       "</table>\n",
       "</div>"
      ],
      "text/plain": [
       "            df        sum_sq       mean_sq         F   PR(>F)\n",
       "topping   10.0  8.264386e+09  8.264386e+08  1.044623  0.41403\n",
       "Residual  85.0  6.724652e+10  7.911355e+08       NaN      NaN"
      ]
     },
     "execution_count": 37,
     "metadata": {},
     "output_type": "execute_result"
    }
   ],
   "source": [
    "#Annova Test\n",
    "mod = ols('price_rupiah ~ topping',data = df).fit()\n",
    "sm.stats.anova_lm(mod)"
   ]
  },
  {
   "cell_type": "code",
   "execution_count": 38,
   "id": "b9024c4e",
   "metadata": {},
   "outputs": [
    {
     "name": "stdout",
     "output_type": "stream",
     "text": [
      "            Multiple Comparison of Means - Tukey HSD, FWER=0.05             \n",
      "============================================================================\n",
      "   group1       group2      meandiff  p-adj     lower        upper    reject\n",
      "----------------------------------------------------------------------------\n",
      "        beef black papper  34333.3333    0.9  -50600.8509 119267.5176  False\n",
      "        beef      chicken      6000.0    0.9  -62715.1384  74715.1384  False\n",
      "        beef         meat      4800.0    0.9  -73043.4657  82643.4657  False\n",
      "        beef   mozzarella  10176.4706    0.9  -59375.6675  79728.6087  False\n",
      "        beef    mushrooms      9500.0    0.9  -60280.5529  79280.5529  False\n",
      "        beef        onion    -19000.0    0.9 -132951.1658  94951.1658  False\n",
      "        beef      sausage      6500.0    0.9  -86540.7373  99540.7373  False\n",
      "        beef  smoked beef     26375.0    0.9  -43405.5529  96155.5529  False\n",
      "        beef         tuna   2333.3333    0.9  -73634.1105  78300.7772  False\n",
      "        beef   vegetables      2500.0    0.9  -73467.4439  78467.4439  False\n",
      "black papper      chicken -28333.3333 0.8483  -85595.9487   28929.282  False\n",
      "black papper         meat -29533.3333    0.9  -97480.6807  38414.0141  False\n",
      "black papper   mozzarella -24156.8627    0.9  -82421.2325   34107.507  False\n",
      "black papper    mushrooms -24833.3333    0.9  -83370.1802  33703.5135  False\n",
      "black papper        onion -53333.3333 0.8451 -160767.5227  54100.8561  False\n",
      "black papper      sausage -27833.3333    0.9 -112767.5176  57100.8509  False\n",
      "black papper  smoked beef  -7958.3333    0.9  -66495.1802  50578.5135  False\n",
      "black papper         tuna    -32000.0  0.865  -97789.7362  33789.7362  False\n",
      "black papper   vegetables -31833.3333   0.87  -97623.0696  33956.4029  False\n",
      "     chicken         meat     -1200.0    0.9  -47295.5162  44895.5162  False\n",
      "     chicken   mozzarella   4176.4706    0.9  -25868.3521  34221.2933  False\n",
      "     chicken    mushrooms      3500.0    0.9  -27069.8713  34069.8713  False\n",
      "     chicken        onion    -25000.0    0.9 -120131.8014  70131.8014  False\n",
      "     chicken      sausage       500.0    0.9  -68215.1384  69215.1384  False\n",
      "     chicken  smoked beef     20375.0 0.5069  -10194.8713  50944.8713  False\n",
      "     chicken         tuna  -3666.6667    0.9  -46518.0842  39184.7509  False\n",
      "     chicken   vegetables     -3500.0    0.9  -46351.4175  39351.4175  False\n",
      "        meat   mozzarella   5376.4706    0.9  -41957.7271  52710.6683  False\n",
      "        meat    mushrooms      4700.0    0.9  -42969.1927  52369.1927  False\n",
      "        meat        onion    -23800.0    0.9 -125721.0211  78121.0211  False\n",
      "        meat      sausage      1700.0    0.9  -76143.4657  79543.4657  False\n",
      "        meat  smoked beef     21575.0    0.9  -26094.1927  69244.1927  False\n",
      "        meat         tuna  -2466.6667    0.9  -58805.6309  53872.2976  False\n",
      "        meat   vegetables     -2300.0    0.9  -58638.9642  54038.9642  False\n",
      "  mozzarella    mushrooms   -676.4706    0.9  -33083.9804  31731.0392  False\n",
      "  mozzarella        onion -29176.4706    0.9 -124914.5994  66561.6582  False\n",
      "  mozzarella      sausage  -3676.4706    0.9  -73228.6087  65875.6675  False\n",
      "  mozzarella  smoked beef  16198.5294 0.8383  -16208.9804  48606.0392  False\n",
      "  mozzarella         tuna  -7843.1373    0.9  -52024.2831  36338.0086  False\n",
      "  mozzarella   vegetables  -7676.4706    0.9  -51857.6164  36504.6753  False\n",
      "   mushrooms        onion    -28500.0    0.9 -124404.1968  67404.1968  False\n",
      "   mushrooms      sausage     -3000.0    0.9  -72780.5529  66780.5529  False\n",
      "   mushrooms  smoked beef     16875.0 0.8121  -16019.8681  49769.8681  False\n",
      "   mushrooms         tuna  -7166.6667    0.9  -51706.5287  37373.1953  False\n",
      "   mushrooms   vegetables     -7000.0    0.9   -51539.862   37539.862  False\n",
      "       onion      sausage     25500.0    0.9  -88451.1658 139451.1658  False\n",
      "       onion  smoked beef     45375.0 0.8914  -50529.1968 141279.1968  False\n",
      "       onion         tuna  21333.3333    0.9  -79162.1488 121828.8154  False\n",
      "       onion   vegetables     21500.0    0.9  -78995.4821 121995.4821  False\n",
      "     sausage  smoked beef     19875.0    0.9  -49905.5529  89655.5529  False\n",
      "     sausage         tuna  -4166.6667    0.9  -80134.1105  71800.7772  False\n",
      "     sausage   vegetables     -4000.0    0.9  -79967.4439  71967.4439  False\n",
      " smoked beef         tuna -24041.6667 0.7589  -68581.5287  20498.1953  False\n",
      " smoked beef   vegetables    -23875.0 0.7663   -68414.862   20664.862  False\n",
      "        tuna   vegetables    166.6667    0.9   -53550.428  53883.7614  False\n",
      "----------------------------------------------------------------------------\n"
     ]
    }
   ],
   "source": [
    "rslt = pairwise_tukeyhsd(df.price_rupiah, df.topping, alpha = 0.05)\n",
    "print(rslt)"
   ]
  },
  {
   "cell_type": "markdown",
   "id": "34b6782e",
   "metadata": {},
   "source": [
    "* Topping is a bad predictor "
   ]
  },
  {
   "cell_type": "markdown",
   "id": "b5455de3",
   "metadata": {},
   "source": [
    "### variant"
   ]
  },
  {
   "cell_type": "code",
   "execution_count": 143,
   "id": "3e3c18b3",
   "metadata": {
    "scrolled": true
   },
   "outputs": [
    {
     "data": {
      "text/plain": [
       "classic              20\n",
       "new_york             10\n",
       "crunchy              10\n",
       "double_decker         9\n",
       "meat_lovers           8\n",
       "double_mix            6\n",
       "super_supreme         4\n",
       "american_favorite     4\n",
       "BBQ_meat_fiesta       3\n",
       "spicy tuna            2\n",
       "meat_eater            2\n",
       "gournet_greek         2\n",
       "neptune_tuna          2\n",
       "BBQ_sausage           2\n",
       "thai_veggie           2\n",
       "spicy_tuna            2\n",
       "italian_veggie        2\n",
       "double_signature      2\n",
       "american_classic      2\n",
       "extravaganza          2\n",
       "Name: variant, dtype: int64"
      ]
     },
     "execution_count": 143,
     "metadata": {},
     "output_type": "execute_result"
    }
   ],
   "source": [
    "df.variant.value_counts()"
   ]
  },
  {
   "cell_type": "code",
   "execution_count": 145,
   "id": "1dfcbf02",
   "metadata": {},
   "outputs": [
    {
     "data": {
      "image/png": "[encoded data removed]",
      "text/plain": [
       "<Figure size 720x360 with 1 Axes>"
      ]
     },
     "metadata": {},
     "output_type": "display_data"
    }
   ],
   "source": [
    "plt.figure(figsize=(10,5))\n",
    "sns.countplot(df.variant)\n",
    "plt.title('Bar plot of variant')\n",
    "plt.xticks(rotation = 90)\n",
    "plt.show()"
   ]
  },
  {
   "cell_type": "code",
   "execution_count": 147,
   "id": "27468542",
   "metadata": {
    "scrolled": true
   },
   "outputs": [
    {
     "data": {
      "text/html": [
       "<div>\n",
       "<style scoped>\n",
       "    .dataframe tbody tr th:only-of-type {\n",
       "        vertical-align: middle;\n",
       "    }\n",
       "\n",
       "    .dataframe tbody tr th {\n",
       "        vertical-align: top;\n",
       "    }\n",
       "\n",
       "    .dataframe thead th {\n",
       "        text-align: right;\n",
       "    }\n",
       "</style>\n",
       "<table border=\"1\" class=\"dataframe\">\n",
       "  <thead>\n",
       "    <tr style=\"text-align: right;\">\n",
       "      <th></th>\n",
       "      <th>df</th>\n",
       "      <th>sum_sq</th>\n",
       "      <th>mean_sq</th>\n",
       "      <th>F</th>\n",
       "      <th>PR(&gt;F)</th>\n",
       "    </tr>\n",
       "  </thead>\n",
       "  <tbody>\n",
       "    <tr>\n",
       "      <th>variant</th>\n",
       "      <td>19.0</td>\n",
       "      <td>4.912702e+10</td>\n",
       "      <td>2.585632e+09</td>\n",
       "      <td>7.448033</td>\n",
       "      <td>7.816709e-11</td>\n",
       "    </tr>\n",
       "    <tr>\n",
       "      <th>Residual</th>\n",
       "      <td>76.0</td>\n",
       "      <td>2.638389e+10</td>\n",
       "      <td>3.471564e+08</td>\n",
       "      <td>NaN</td>\n",
       "      <td>NaN</td>\n",
       "    </tr>\n",
       "  </tbody>\n",
       "</table>\n",
       "</div>"
      ],
      "text/plain": [
       "            df        sum_sq       mean_sq         F        PR(>F)\n",
       "variant   19.0  4.912702e+10  2.585632e+09  7.448033  7.816709e-11\n",
       "Residual  76.0  2.638389e+10  3.471564e+08       NaN           NaN"
      ]
     },
     "execution_count": 147,
     "metadata": {},
     "output_type": "execute_result"
    }
   ],
   "source": [
    "#Annova Test\n",
    "mod = ols('price_rupiah ~ variant',data = df).fit()\n",
    "sm.stats.anova_lm(mod)"
   ]
  },
  {
   "cell_type": "code",
   "execution_count": 152,
   "id": "c3aed67d",
   "metadata": {
    "scrolled": true
   },
   "outputs": [
    {
     "data": {
      "image/png": "[encoded data removed]",
      "text/plain": [
       "<Figure size 720x360 with 1 Axes>"
      ]
     },
     "metadata": {},
     "output_type": "display_data"
    }
   ],
   "source": [
    "plt.figure(figsize=(10,5))\n",
    "sns.boxplot(x = 'variant', y = 'price_rupiah', data = df,palette = 'Set1_r')\n",
    "plt.xticks(rotation  = 90)\n",
    "plt.show()"
   ]
  },
  {
   "cell_type": "markdown",
   "id": "b4858f00",
   "metadata": {},
   "source": [
    "* If there are box plot of same level then merge both together."
   ]
  },
  {
   "cell_type": "code",
   "execution_count": 148,
   "id": "35c62a55",
   "metadata": {
    "scrolled": false
   },
   "outputs": [
    {
     "name": "stdout",
     "output_type": "stream",
     "text": [
      "                 Multiple Comparison of Means - Tukey HSD, FWER=0.05                  \n",
      "======================================================================================\n",
      "      group1            group2        meandiff  p-adj     lower        upper    reject\n",
      "--------------------------------------------------------------------------------------\n",
      "  BBQ_meat_fiesta       BBQ_sausage     -1500.0    0.9  -63951.4752  60951.4752  False\n",
      "  BBQ_meat_fiesta  american_classic     -8000.0    0.9  -70451.4752  54451.4752  False\n",
      "  BBQ_meat_fiesta american_favorite     20500.0    0.9  -31750.6529  72750.6529  False\n",
      "  BBQ_meat_fiesta           classic    -21400.0    0.9  -63756.6512  20956.6512  False\n",
      "  BBQ_meat_fiesta           crunchy    -24800.0 0.8703  -69834.3992  20234.3992  False\n",
      "  BBQ_meat_fiesta     double_decker  21777.7778    0.9  -23830.3311  67385.8867  False\n",
      "  BBQ_meat_fiesta        double_mix  50333.3333 0.0326    1958.6287   98708.038   True\n",
      "  BBQ_meat_fiesta  double_signature     50500.0 0.2759  -11951.4752 112951.4752  False\n",
      "  BBQ_meat_fiesta      extravaganza     -8000.0    0.9  -70451.4752  54451.4752  False\n",
      "  BBQ_meat_fiesta     gournet_greek      4500.0    0.9  -57951.4752  66951.4752  False\n",
      "  BBQ_meat_fiesta    italian_veggie    -19500.0    0.9  -81951.4752  42951.4752  False\n",
      "  BBQ_meat_fiesta        meat_eater     -8000.0    0.9  -70451.4752  54451.4752  False\n",
      "  BBQ_meat_fiesta       meat_lovers     20500.0    0.9  -25815.2536  66815.2536  False\n",
      "  BBQ_meat_fiesta      neptune_tuna    -14000.0    0.9  -76451.4752  48451.4752  False\n",
      "  BBQ_meat_fiesta          new_york     12800.0    0.9  -32234.3992  57834.3992  False\n",
      "  BBQ_meat_fiesta        spicy tuna     -1500.0    0.9  -63951.4752  60951.4752  False\n",
      "  BBQ_meat_fiesta        spicy_tuna     -1500.0    0.9  -63951.4752  60951.4752  False\n",
      "  BBQ_meat_fiesta     super_supreme     20500.0    0.9  -31750.6529  72750.6529  False\n",
      "  BBQ_meat_fiesta       thai_veggie     -1500.0    0.9  -63951.4752  60951.4752  False\n",
      "      BBQ_sausage  american_classic     -6500.0    0.9  -74912.1634  61912.1634  False\n",
      "      BBQ_sausage american_favorite     22000.0    0.9  -37246.6714  81246.6714  False\n",
      "      BBQ_sausage           classic    -19900.0    0.9  -70635.8183  30835.8183  False\n",
      "      BBQ_sausage           crunchy    -23300.0    0.9  -76291.8339  29691.8339  False\n",
      "      BBQ_sausage     double_decker  23277.7778    0.9  -30202.4704   76758.026  False\n",
      "      BBQ_sausage        double_mix  51833.3333  0.102   -4024.9642 107691.6308  False\n",
      "      BBQ_sausage  double_signature     52000.0  0.386  -16412.1634 120412.1634  False\n",
      "      BBQ_sausage      extravaganza     -6500.0    0.9  -74912.1634  61912.1634  False\n",
      "      BBQ_sausage     gournet_greek      6000.0    0.9  -62412.1634  74412.1634  False\n",
      "      BBQ_sausage    italian_veggie    -18000.0    0.9  -86412.1634  50412.1634  False\n",
      "      BBQ_sausage        meat_eater     -6500.0    0.9  -74912.1634  61912.1634  False\n",
      "      BBQ_sausage       meat_lovers     22000.0    0.9   -32084.564   76084.564  False\n",
      "      BBQ_sausage      neptune_tuna    -12500.0    0.9  -80912.1634  55912.1634  False\n",
      "      BBQ_sausage          new_york     14300.0    0.9  -38691.8339  67291.8339  False\n",
      "      BBQ_sausage        spicy tuna         0.0    0.9  -68412.1634  68412.1634  False\n",
      "      BBQ_sausage        spicy_tuna         0.0    0.9  -68412.1634  68412.1634  False\n",
      "      BBQ_sausage     super_supreme     22000.0    0.9  -37246.6714  81246.6714  False\n",
      "      BBQ_sausage       thai_veggie         0.0    0.9  -68412.1634  68412.1634  False\n",
      " american_classic american_favorite     28500.0    0.9  -30746.6714  87746.6714  False\n",
      " american_classic           classic    -13400.0    0.9  -64135.8183  37335.8183  False\n",
      " american_classic           crunchy    -16800.0    0.9  -69791.8339  36191.8339  False\n",
      " american_classic     double_decker  29777.7778 0.8564  -23702.4704   83258.026  False\n",
      " american_classic        double_mix  58333.3333 0.0312    2475.0358 114191.6308   True\n",
      " american_classic  double_signature     58500.0 0.1925   -9912.1634 126912.1634  False\n",
      " american_classic      extravaganza         0.0    0.9  -68412.1634  68412.1634  False\n",
      " american_classic     gournet_greek     12500.0    0.9  -55912.1634  80912.1634  False\n",
      " american_classic    italian_veggie    -11500.0    0.9  -79912.1634  56912.1634  False\n",
      " american_classic        meat_eater         0.0    0.9  -68412.1634  68412.1634  False\n",
      " american_classic       meat_lovers     28500.0    0.9   -25584.564   82584.564  False\n",
      " american_classic      neptune_tuna     -6000.0    0.9  -74412.1634  62412.1634  False\n",
      " american_classic          new_york     20800.0    0.9  -32191.8339  73791.8339  False\n",
      " american_classic        spicy tuna      6500.0    0.9  -61912.1634  74912.1634  False\n",
      " american_classic        spicy_tuna      6500.0    0.9  -61912.1634  74912.1634  False\n",
      " american_classic     super_supreme     28500.0    0.9  -30746.6714  87746.6714  False\n",
      " american_classic       thai_veggie      6500.0    0.9  -61912.1634  74912.1634  False\n",
      "american_favorite           classic    -41900.0 0.0135  -79370.8851  -4429.1149   True\n",
      "american_favorite           crunchy    -45300.0 0.0133  -85773.1817  -4826.8183   True\n",
      "american_favorite     double_decker   1277.7778    0.9   -39832.816  42388.3716  False\n",
      "american_favorite        double_mix  29833.3333 0.5868  -14326.5282  73993.1949  False\n",
      "american_favorite  double_signature     30000.0    0.9  -29246.6714  89246.6714  False\n",
      "american_favorite      extravaganza    -28500.0    0.9  -87746.6714  30746.6714  False\n",
      "american_favorite     gournet_greek    -16000.0    0.9  -75246.6714  43246.6714  False\n",
      "american_favorite    italian_veggie    -40000.0 0.5878  -99246.6714  19246.6714  False\n",
      "american_favorite        meat_eater    -28500.0    0.9  -87746.6714  30746.6714  False\n",
      "american_favorite       meat_lovers         0.0    0.9  -41893.7231  41893.7231  False\n",
      "american_favorite      neptune_tuna    -34500.0 0.7985  -93746.6714  24746.6714  False\n",
      "american_favorite          new_york     -7700.0    0.9  -48173.1817  32773.1817  False\n",
      "american_favorite        spicy tuna    -22000.0    0.9  -81246.6714  37246.6714  False\n",
      "american_favorite        spicy_tuna    -22000.0    0.9  -81246.6714  37246.6714  False\n",
      "american_favorite     super_supreme         0.0    0.9  -48374.7046  48374.7046  False\n",
      "american_favorite       thai_veggie    -22000.0    0.9  -81246.6714  37246.6714  False\n",
      "          classic           crunchy     -3400.0    0.9  -29895.9169  23095.9169  False\n",
      "          classic     double_decker  43177.7778  0.001   15718.0599  70637.4956   True\n",
      "          classic        double_mix  71733.3333  0.001   39889.2043 103577.4624   True\n",
      "          classic  double_signature     71900.0  0.001   21164.1817 122635.8183   True\n",
      "          classic      extravaganza     13400.0    0.9  -37335.8183  64135.8183  False\n",
      "          classic     gournet_greek     25900.0    0.9  -24835.8183  76635.8183  False\n",
      "          classic    italian_veggie      1900.0    0.9  -48835.8183  52635.8183  False\n",
      "          classic        meat_eater     13400.0    0.9  -37335.8183  64135.8183  False\n",
      "          classic       meat_lovers     41900.0  0.001   13281.1388  70518.8612   True\n",
      "          classic      neptune_tuna      7400.0    0.9  -43335.8183  58135.8183  False\n",
      "          classic          new_york     34200.0 0.0015    7704.0831  60695.9169   True\n",
      "          classic        spicy tuna     19900.0    0.9  -30835.8183  70635.8183  False\n",
      "          classic        spicy_tuna     19900.0    0.9  -30835.8183  70635.8183  False\n",
      "          classic     super_supreme     41900.0 0.0135    4429.1149  79370.8851   True\n",
      "          classic       thai_veggie     19900.0    0.9  -30835.8183  70635.8183  False\n",
      "          crunchy     double_decker  46577.7778  0.001   15144.5579  78010.9976   True\n",
      "          crunchy        double_mix  75133.3333  0.001   39805.4441 110461.2226   True\n",
      "          crunchy  double_signature     75300.0  0.001   22308.1661 128291.8339   True\n",
      "          crunchy      extravaganza     16800.0    0.9  -36191.8339  69791.8339  False\n",
      "          crunchy     gournet_greek     29300.0 0.8652  -23691.8339  82291.8339  False\n",
      "          crunchy    italian_veggie      5300.0    0.9  -47691.8339  58291.8339  False\n",
      "          crunchy        meat_eater     16800.0    0.9  -36191.8339  69791.8339  False\n",
      "          crunchy       meat_lovers     45300.0  0.001   12849.2616  77750.7384   True\n",
      "          crunchy      neptune_tuna     10800.0    0.9  -42191.8339  63791.8339  False\n",
      "          crunchy          new_york     37600.0 0.0034    7005.1504  68194.8496   True\n",
      "          crunchy        spicy tuna     23300.0    0.9  -29691.8339  76291.8339  False\n",
      "          crunchy        spicy_tuna     23300.0    0.9  -29691.8339  76291.8339  False\n",
      "          crunchy     super_supreme     45300.0 0.0133    4826.8183  85773.1817   True\n",
      "          crunchy       thai_veggie     23300.0    0.9  -29691.8339  76291.8339  False\n",
      "    double_decker        double_mix  28555.5556 0.3104   -7500.8204  64611.9315  False\n",
      "    double_decker  double_signature  28722.2222    0.9   -24758.026  82202.4704  False\n",
      "    double_decker      extravaganza -29777.7778 0.8564   -83258.026  23702.4704  False\n",
      "    double_decker     gournet_greek -17277.7778    0.9   -70758.026  36202.4704  False\n",
      "    double_decker    italian_veggie -41277.7778 0.3567   -94758.026  12202.4704  False\n",
      "    double_decker        meat_eater -29777.7778 0.8564   -83258.026  23702.4704  False\n",
      "    double_decker       meat_lovers  -1277.7778    0.9  -34520.1139  31964.5584  False\n",
      "    double_decker      neptune_tuna -35777.7778 0.6018   -89258.026  17702.4704  False\n",
      "    double_decker          new_york  -8977.7778    0.9  -40410.9976  22455.4421  False\n",
      "    double_decker        spicy tuna -23277.7778    0.9   -76758.026  30202.4704  False\n",
      "    double_decker        spicy_tuna -23277.7778    0.9   -76758.026  30202.4704  False\n",
      "    double_decker     super_supreme  -1277.7778    0.9  -42388.3716   39832.816  False\n",
      "    double_decker       thai_veggie -23277.7778    0.9   -76758.026  30202.4704  False\n",
      "       double_mix  double_signature    166.6667    0.9  -55691.6308  56024.9642  False\n",
      "       double_mix      extravaganza -58333.3333 0.0312 -114191.6308  -2475.0358   True\n",
      "       double_mix     gournet_greek -45833.3333 0.2524 -101691.6308  10024.9642  False\n",
      "       double_mix    italian_veggie -69833.3333 0.0026 -125691.6308 -13975.0358   True\n",
      "       double_mix        meat_eater -58333.3333 0.0312 -114191.6308  -2475.0358   True\n",
      "       double_mix       meat_lovers -29833.3333 0.2782  -66780.1243   7113.4576  False\n",
      "       double_mix      neptune_tuna -64333.3333  0.009 -120191.6308  -8475.0358   True\n",
      "       double_mix          new_york -37533.3333 0.0255  -72861.2226  -2205.4441   True\n",
      "       double_mix        spicy tuna -51833.3333  0.102 -107691.6308   4024.9642  False\n",
      "       double_mix        spicy_tuna -51833.3333  0.102 -107691.6308   4024.9642  False\n",
      "       double_mix     super_supreme -29833.3333 0.5868  -73993.1949  14326.5282  False\n",
      "       double_mix       thai_veggie -51833.3333  0.102 -107691.6308   4024.9642  False\n",
      " double_signature      extravaganza    -58500.0 0.1925 -126912.1634   9912.1634  False\n",
      " double_signature     gournet_greek    -46000.0 0.5941 -114412.1634  22412.1634  False\n",
      " double_signature    italian_veggie    -70000.0 0.0392 -138412.1634  -1587.8366   True\n",
      " double_signature        meat_eater    -58500.0 0.1925 -126912.1634   9912.1634  False\n",
      " double_signature       meat_lovers    -30000.0 0.8612   -84084.564   24084.564  False\n",
      " double_signature      neptune_tuna    -64500.0 0.0882 -132912.1634   3912.1634  False\n",
      " double_signature          new_york    -37700.0 0.5055  -90691.8339  15291.8339  False\n",
      " double_signature        spicy tuna    -52000.0  0.386 -120412.1634  16412.1634  False\n",
      " double_signature        spicy_tuna    -52000.0  0.386 -120412.1634  16412.1634  False\n",
      " double_signature     super_supreme    -30000.0    0.9  -89246.6714  29246.6714  False\n",
      " double_signature       thai_veggie    -52000.0  0.386 -120412.1634  16412.1634  False\n",
      "     extravaganza     gournet_greek     12500.0    0.9  -55912.1634  80912.1634  False\n",
      "     extravaganza    italian_veggie    -11500.0    0.9  -79912.1634  56912.1634  False\n",
      "     extravaganza        meat_eater         0.0    0.9  -68412.1634  68412.1634  False\n",
      "     extravaganza       meat_lovers     28500.0    0.9   -25584.564   82584.564  False\n",
      "     extravaganza      neptune_tuna     -6000.0    0.9  -74412.1634  62412.1634  False\n",
      "     extravaganza          new_york     20800.0    0.9  -32191.8339  73791.8339  False\n",
      "     extravaganza        spicy tuna      6500.0    0.9  -61912.1634  74912.1634  False\n",
      "     extravaganza        spicy_tuna      6500.0    0.9  -61912.1634  74912.1634  False\n",
      "     extravaganza     super_supreme     28500.0    0.9  -30746.6714  87746.6714  False\n",
      "     extravaganza       thai_veggie      6500.0    0.9  -61912.1634  74912.1634  False\n",
      "    gournet_greek    italian_veggie    -24000.0    0.9  -92412.1634  44412.1634  False\n",
      "    gournet_greek        meat_eater    -12500.0    0.9  -80912.1634  55912.1634  False\n",
      "    gournet_greek       meat_lovers     16000.0    0.9   -38084.564   70084.564  False\n",
      "    gournet_greek      neptune_tuna    -18500.0    0.9  -86912.1634  49912.1634  False\n",
      "    gournet_greek          new_york      8300.0    0.9  -44691.8339  61291.8339  False\n",
      "    gournet_greek        spicy tuna     -6000.0    0.9  -74412.1634  62412.1634  False\n",
      "    gournet_greek        spicy_tuna     -6000.0    0.9  -74412.1634  62412.1634  False\n",
      "    gournet_greek     super_supreme     16000.0    0.9  -43246.6714  75246.6714  False\n",
      "    gournet_greek       thai_veggie     -6000.0    0.9  -74412.1634  62412.1634  False\n",
      "   italian_veggie        meat_eater     11500.0    0.9  -56912.1634  79912.1634  False\n",
      "   italian_veggie       meat_lovers     40000.0 0.4381   -14084.564   94084.564  False\n",
      "   italian_veggie      neptune_tuna      5500.0    0.9  -62912.1634  73912.1634  False\n",
      "   italian_veggie          new_york     32300.0 0.7367  -20691.8339  85291.8339  False\n",
      "   italian_veggie        spicy tuna     18000.0    0.9  -50412.1634  86412.1634  False\n",
      "   italian_veggie        spicy_tuna     18000.0    0.9  -50412.1634  86412.1634  False\n",
      "   italian_veggie     super_supreme     40000.0 0.5878  -19246.6714  99246.6714  False\n",
      "   italian_veggie       thai_veggie     18000.0    0.9  -50412.1634  86412.1634  False\n",
      "       meat_eater       meat_lovers     28500.0    0.9   -25584.564   82584.564  False\n",
      "       meat_eater      neptune_tuna     -6000.0    0.9  -74412.1634  62412.1634  False\n",
      "       meat_eater          new_york     20800.0    0.9  -32191.8339  73791.8339  False\n",
      "       meat_eater        spicy tuna      6500.0    0.9  -61912.1634  74912.1634  False\n",
      "       meat_eater        spicy_tuna      6500.0    0.9  -61912.1634  74912.1634  False\n",
      "       meat_eater     super_supreme     28500.0    0.9  -30746.6714  87746.6714  False\n",
      "       meat_eater       thai_veggie      6500.0    0.9  -61912.1634  74912.1634  False\n",
      "      meat_lovers      neptune_tuna    -34500.0 0.6724   -88584.564   19584.564  False\n",
      "      meat_lovers          new_york     -7700.0    0.9  -40150.7384  24750.7384  False\n",
      "      meat_lovers        spicy tuna    -22000.0    0.9   -76084.564   32084.564  False\n",
      "      meat_lovers        spicy_tuna    -22000.0    0.9   -76084.564   32084.564  False\n",
      "      meat_lovers     super_supreme         0.0    0.9  -41893.7231  41893.7231  False\n",
      "      meat_lovers       thai_veggie    -22000.0    0.9   -76084.564   32084.564  False\n",
      "     neptune_tuna          new_york     26800.0    0.9  -26191.8339  79791.8339  False\n",
      "     neptune_tuna        spicy tuna     12500.0    0.9  -55912.1634  80912.1634  False\n",
      "     neptune_tuna        spicy_tuna     12500.0    0.9  -55912.1634  80912.1634  False\n",
      "     neptune_tuna     super_supreme     34500.0 0.7985  -24746.6714  93746.6714  False\n",
      "     neptune_tuna       thai_veggie     12500.0    0.9  -55912.1634  80912.1634  False\n",
      "         new_york        spicy tuna    -14300.0    0.9  -67291.8339  38691.8339  False\n",
      "         new_york        spicy_tuna    -14300.0    0.9  -67291.8339  38691.8339  False\n",
      "         new_york     super_supreme      7700.0    0.9  -32773.1817  48173.1817  False\n",
      "         new_york       thai_veggie    -14300.0    0.9  -67291.8339  38691.8339  False\n",
      "       spicy tuna        spicy_tuna         0.0    0.9  -68412.1634  68412.1634  False\n",
      "       spicy tuna     super_supreme     22000.0    0.9  -37246.6714  81246.6714  False\n",
      "       spicy tuna       thai_veggie         0.0    0.9  -68412.1634  68412.1634  False\n",
      "       spicy_tuna     super_supreme     22000.0    0.9  -37246.6714  81246.6714  False\n",
      "       spicy_tuna       thai_veggie         0.0    0.9  -68412.1634  68412.1634  False\n",
      "    super_supreme       thai_veggie    -22000.0    0.9  -81246.6714  37246.6714  False\n",
      "--------------------------------------------------------------------------------------\n"
     ]
    }
   ],
   "source": [
    "rslt = pairwise_tukeyhsd(df.price_rupiah, df.variant, alpha = 0.05)\n",
    "print(rslt)"
   ]
  },
  {
   "cell_type": "code",
   "execution_count": 40,
   "id": "6f1fefcf",
   "metadata": {},
   "outputs": [],
   "source": [
    "df.variant.replace(to_replace=['super_supreme'],value=['meat_lovers'],inplace=True)"
   ]
  },
  {
   "cell_type": "code",
   "execution_count": 41,
   "id": "438e04f0",
   "metadata": {},
   "outputs": [],
   "source": [
    "df.variant.replace(to_replace=['american_favorite'],value=['meat_lovers'],inplace=True)"
   ]
  },
  {
   "cell_type": "code",
   "execution_count": 42,
   "id": "4d57d57c",
   "metadata": {},
   "outputs": [],
   "source": [
    "df.variant.replace(to_replace=['extravaganza '],value=['meat_eater'],inplace=True)"
   ]
  },
  {
   "cell_type": "code",
   "execution_count": 43,
   "id": "e74f4ef2",
   "metadata": {},
   "outputs": [],
   "source": [
    "df.variant.replace(to_replace=['meat_eater'],value=['meat_lovers'],inplace=True)"
   ]
  },
  {
   "cell_type": "code",
   "execution_count": 48,
   "id": "e3c532cc",
   "metadata": {},
   "outputs": [],
   "source": [
    "df.variant.replace(to_replace=['spicy_tuna'],value=['BBQ_sausage'],inplace=True)"
   ]
  },
  {
   "cell_type": "code",
   "execution_count": 45,
   "id": "d8c15b66",
   "metadata": {},
   "outputs": [],
   "source": [
    "df.variant.replace(to_replace=['BBQ_meat_fiesta'],value=['BBQ_sausage'],inplace=True)"
   ]
  },
  {
   "cell_type": "code",
   "execution_count": 47,
   "id": "9715c318",
   "metadata": {},
   "outputs": [],
   "source": [
    "df.variant.replace(to_replace=['thai_veggie'],value=['spicy tuna'],inplace=True)"
   ]
  },
  {
   "cell_type": "code",
   "execution_count": 51,
   "id": "c582a3da",
   "metadata": {},
   "outputs": [],
   "source": [
    "df.variant.replace(to_replace=['extravaganza '],value=['american_classic'],inplace=True)"
   ]
  },
  {
   "cell_type": "code",
   "execution_count": 52,
   "id": "0f46717b",
   "metadata": {},
   "outputs": [
    {
     "data": {
      "image/png": "[encoded data removed]",
      "text/plain": [
       "<Figure size 720x360 with 1 Axes>"
      ]
     },
     "metadata": {},
     "output_type": "display_data"
    }
   ],
   "source": [
    "plt.figure(figsize=(10,5))\n",
    "sns.boxplot(x = 'variant', y = 'price_rupiah', data = df,palette = 'Set1_r')\n",
    "plt.xticks(rotation  = 90)\n",
    "plt.show()"
   ]
  },
  {
   "cell_type": "markdown",
   "id": "e3790295",
   "metadata": {},
   "source": [
    "* p < 0.05 null hypothesis is accepted so therefore variant is a bad predictor"
   ]
  },
  {
   "cell_type": "markdown",
   "id": "0fca489b",
   "metadata": {},
   "source": [
    "### extra_cheese   "
   ]
  },
  {
   "cell_type": "code",
   "execution_count": 39,
   "id": "f8b16e01",
   "metadata": {},
   "outputs": [
    {
     "data": {
      "text/plain": [
       "yes    6\n",
       "no     1\n",
       "Name: extra_cheese, dtype: int64"
      ]
     },
     "execution_count": 39,
     "metadata": {},
     "output_type": "execute_result"
    }
   ],
   "source": [
    "df.extra_cheese.value_counts()"
   ]
  },
  {
   "cell_type": "code",
   "execution_count": 40,
   "id": "0bb1c1d0",
   "metadata": {},
   "outputs": [
    {
     "data": {
      "image/png": "[encoded data removed]",
      "text/plain": [
       "<Figure size 720x360 with 1 Axes>"
      ]
     },
     "metadata": {},
     "output_type": "display_data"
    }
   ],
   "source": [
    "plt.figure(figsize=(10,5))\n",
    "sns.countplot(df.extra_cheese)\n",
    "plt.title('Bar plot of extra cheese')\n",
    "plt.show()"
   ]
  },
  {
   "cell_type": "code",
   "execution_count": 41,
   "id": "98db64fc",
   "metadata": {},
   "outputs": [
    {
     "data": {
      "text/plain": [
       "extra_cheese\n",
       "no     248000.0\n",
       "yes    211500.0\n",
       "Name: price_rupiah, dtype: float64"
      ]
     },
     "execution_count": 41,
     "metadata": {},
     "output_type": "execute_result"
    }
   ],
   "source": [
    "round(df.price_rupiah.groupby(df.extra_cheese).mean())"
   ]
  },
  {
   "cell_type": "code",
   "execution_count": 42,
   "id": "4c286085",
   "metadata": {},
   "outputs": [
    {
     "data": {
      "image/png": "[encoded data removed]",
      "text/plain": [
       "<Figure size 720x360 with 1 Axes>"
      ]
     },
     "metadata": {},
     "output_type": "display_data"
    }
   ],
   "source": [
    "plt.figure(figsize=(10,5))\n",
    "sns.countplot(df.extra_cheese,hue=df.price_rupiah,palette='bright')\n",
    "plt.legend(loc='center left', bbox_to_anchor=(1, 1))\n",
    "plt.title('Extra Cheese vs Price')\n",
    "plt.show()"
   ]
  },
  {
   "cell_type": "code",
   "execution_count": 79,
   "id": "8bfd9f8f",
   "metadata": {},
   "outputs": [
    {
     "data": {
      "text/html": [
       "<div>\n",
       "<style scoped>\n",
       "    .dataframe tbody tr th:only-of-type {\n",
       "        vertical-align: middle;\n",
       "    }\n",
       "\n",
       "    .dataframe tbody tr th {\n",
       "        vertical-align: top;\n",
       "    }\n",
       "\n",
       "    .dataframe thead th {\n",
       "        text-align: right;\n",
       "    }\n",
       "</style>\n",
       "<table border=\"1\" class=\"dataframe\">\n",
       "  <thead>\n",
       "    <tr style=\"text-align: right;\">\n",
       "      <th></th>\n",
       "      <th>df</th>\n",
       "      <th>sum_sq</th>\n",
       "      <th>mean_sq</th>\n",
       "      <th>F</th>\n",
       "      <th>PR(&gt;F)</th>\n",
       "    </tr>\n",
       "  </thead>\n",
       "  <tbody>\n",
       "    <tr>\n",
       "      <th>extra_cheese</th>\n",
       "      <td>1.0</td>\n",
       "      <td>1.141929e+09</td>\n",
       "      <td>1.141929e+09</td>\n",
       "      <td>2.262589</td>\n",
       "      <td>0.192863</td>\n",
       "    </tr>\n",
       "    <tr>\n",
       "      <th>Residual</th>\n",
       "      <td>5.0</td>\n",
       "      <td>2.523500e+09</td>\n",
       "      <td>5.047000e+08</td>\n",
       "      <td>NaN</td>\n",
       "      <td>NaN</td>\n",
       "    </tr>\n",
       "  </tbody>\n",
       "</table>\n",
       "</div>"
      ],
      "text/plain": [
       "               df        sum_sq       mean_sq         F    PR(>F)\n",
       "extra_cheese  1.0  1.141929e+09  1.141929e+09  2.262589  0.192863\n",
       "Residual      5.0  2.523500e+09  5.047000e+08       NaN       NaN"
      ]
     },
     "execution_count": 79,
     "metadata": {},
     "output_type": "execute_result"
    }
   ],
   "source": [
    "#Annova Test\n",
    "mod = ols('price_rupiah ~ extra_cheese',data = df).fit()\n",
    "sm.stats.anova_lm(mod)"
   ]
  },
  {
   "cell_type": "markdown",
   "id": "9a6f42d2",
   "metadata": {},
   "source": [
    "* As p_value > 0.05 null hypothesis is accepted therefore it is a bad predictor"
   ]
  },
  {
   "cell_type": "markdown",
   "id": "2d846d95",
   "metadata": {},
   "source": [
    "## Model Building "
   ]
  },
  {
   "cell_type": "markdown",
   "id": "671ce317",
   "metadata": {},
   "source": [
    "### Using ols method "
   ]
  },
  {
   "cell_type": "code",
   "execution_count": 44,
   "id": "84a2db99",
   "metadata": {},
   "outputs": [
    {
     "data": {
      "text/html": [
       "<div>\n",
       "<style scoped>\n",
       "    .dataframe tbody tr th:only-of-type {\n",
       "        vertical-align: middle;\n",
       "    }\n",
       "\n",
       "    .dataframe tbody tr th {\n",
       "        vertical-align: top;\n",
       "    }\n",
       "\n",
       "    .dataframe thead th {\n",
       "        text-align: right;\n",
       "    }\n",
       "</style>\n",
       "<table border=\"1\" class=\"dataframe\">\n",
       "  <thead>\n",
       "    <tr style=\"text-align: right;\">\n",
       "      <th></th>\n",
       "      <th>company</th>\n",
       "      <th>price_rupiah</th>\n",
       "      <th>diameter</th>\n",
       "      <th>topping</th>\n",
       "      <th>variant</th>\n",
       "      <th>size</th>\n",
       "      <th>extra_sauce</th>\n",
       "      <th>extra_cheese</th>\n",
       "    </tr>\n",
       "  </thead>\n",
       "  <tbody>\n",
       "    <tr>\n",
       "      <th>0</th>\n",
       "      <td>A</td>\n",
       "      <td>235000.0</td>\n",
       "      <td>22.0</td>\n",
       "      <td>chicken</td>\n",
       "      <td>double_signature</td>\n",
       "      <td>jumbo</td>\n",
       "      <td>yes</td>\n",
       "      <td>yes</td>\n",
       "    </tr>\n",
       "    <tr>\n",
       "      <th>1</th>\n",
       "      <td>A</td>\n",
       "      <td>198000.0</td>\n",
       "      <td>20.0</td>\n",
       "      <td>papperoni</td>\n",
       "      <td>double_signature</td>\n",
       "      <td>jumbo</td>\n",
       "      <td>yes</td>\n",
       "      <td>yes</td>\n",
       "    </tr>\n",
       "    <tr>\n",
       "      <th>4</th>\n",
       "      <td>A</td>\n",
       "      <td>248000.0</td>\n",
       "      <td>18.0</td>\n",
       "      <td>mozzarella</td>\n",
       "      <td>double_signature</td>\n",
       "      <td>jumbo</td>\n",
       "      <td>yes</td>\n",
       "      <td>no</td>\n",
       "    </tr>\n",
       "    <tr>\n",
       "      <th>20</th>\n",
       "      <td>A</td>\n",
       "      <td>230000.0</td>\n",
       "      <td>22.0</td>\n",
       "      <td>chicken</td>\n",
       "      <td>double_mix</td>\n",
       "      <td>jumbo</td>\n",
       "      <td>yes</td>\n",
       "      <td>yes</td>\n",
       "    </tr>\n",
       "    <tr>\n",
       "      <th>21</th>\n",
       "      <td>A</td>\n",
       "      <td>188000.0</td>\n",
       "      <td>18.5</td>\n",
       "      <td>mushrooms</td>\n",
       "      <td>double_mix</td>\n",
       "      <td>jumbo</td>\n",
       "      <td>yes</td>\n",
       "      <td>yes</td>\n",
       "    </tr>\n",
       "    <tr>\n",
       "      <th>84</th>\n",
       "      <td>D</td>\n",
       "      <td>230000.0</td>\n",
       "      <td>22.0</td>\n",
       "      <td>chicken</td>\n",
       "      <td>double_mix</td>\n",
       "      <td>jumbo</td>\n",
       "      <td>yes</td>\n",
       "      <td>yes</td>\n",
       "    </tr>\n",
       "    <tr>\n",
       "      <th>85</th>\n",
       "      <td>D</td>\n",
       "      <td>188000.0</td>\n",
       "      <td>18.5</td>\n",
       "      <td>mushrooms</td>\n",
       "      <td>double_mix</td>\n",
       "      <td>jumbo</td>\n",
       "      <td>yes</td>\n",
       "      <td>yes</td>\n",
       "    </tr>\n",
       "  </tbody>\n",
       "</table>\n",
       "</div>"
      ],
      "text/plain": [
       "   company  price_rupiah  diameter     topping           variant   size  \\\n",
       "0        A      235000.0      22.0     chicken  double_signature  jumbo   \n",
       "1        A      198000.0      20.0   papperoni  double_signature  jumbo   \n",
       "4        A      248000.0      18.0  mozzarella  double_signature  jumbo   \n",
       "20       A      230000.0      22.0     chicken        double_mix  jumbo   \n",
       "21       A      188000.0      18.5   mushrooms        double_mix  jumbo   \n",
       "84       D      230000.0      22.0     chicken        double_mix  jumbo   \n",
       "85       D      188000.0      18.5   mushrooms        double_mix  jumbo   \n",
       "\n",
       "   extra_sauce extra_cheese  \n",
       "0          yes          yes  \n",
       "1          yes          yes  \n",
       "4          yes           no  \n",
       "20         yes          yes  \n",
       "21         yes          yes  \n",
       "84         yes          yes  \n",
       "85         yes          yes  "
      ]
     },
     "execution_count": 44,
     "metadata": {},
     "output_type": "execute_result"
    }
   ],
   "source": [
    "df"
   ]
  },
  {
   "cell_type": "code",
   "execution_count": 53,
   "id": "c368c7c2",
   "metadata": {
    "scrolled": true
   },
   "outputs": [
    {
     "name": "stdout",
     "output_type": "stream",
     "text": [
      "<class 'pandas.core.frame.DataFrame'>\n",
      "Int64Index: 96 entries, 2 to 128\n",
      "Data columns (total 8 columns):\n",
      " #   Column        Non-Null Count  Dtype  \n",
      "---  ------        --------------  -----  \n",
      " 0   company       96 non-null     object \n",
      " 1   price_rupiah  96 non-null     float64\n",
      " 2   diameter      96 non-null     float64\n",
      " 3   topping       96 non-null     object \n",
      " 4   variant       96 non-null     object \n",
      " 5   size          96 non-null     object \n",
      " 6   extra_sauce   96 non-null     object \n",
      " 7   extra_cheese  96 non-null     object \n",
      "dtypes: float64(2), object(6)\n",
      "memory usage: 8.8+ KB\n"
     ]
    }
   ],
   "source": [
    "df.info()"
   ]
  },
  {
   "cell_type": "code",
   "execution_count": 58,
   "id": "5d818761",
   "metadata": {},
   "outputs": [],
   "source": [
    "#Splitting the data\n",
    "df_train = df.iloc[0:65,]\n",
    "df_test = df.iloc[65:,]"
   ]
  },
  {
   "cell_type": "code",
   "execution_count": 59,
   "id": "4871c13b",
   "metadata": {},
   "outputs": [
    {
     "data": {
      "text/plain": [
       "(65, 8)"
      ]
     },
     "execution_count": 59,
     "metadata": {},
     "output_type": "execute_result"
    }
   ],
   "source": [
    "df_train.shape"
   ]
  },
  {
   "cell_type": "code",
   "execution_count": 60,
   "id": "f8efe677",
   "metadata": {},
   "outputs": [
    {
     "data": {
      "text/plain": [
       "(31, 8)"
      ]
     },
     "execution_count": 60,
     "metadata": {},
     "output_type": "execute_result"
    }
   ],
   "source": [
    "df_test.shape"
   ]
  },
  {
   "cell_type": "code",
   "execution_count": 61,
   "id": "1be5f932",
   "metadata": {},
   "outputs": [
    {
     "name": "stdout",
     "output_type": "stream",
     "text": [
      "<class 'pandas.core.frame.DataFrame'>\n",
      "Int64Index: 96 entries, 2 to 128\n",
      "Data columns (total 8 columns):\n",
      " #   Column        Non-Null Count  Dtype  \n",
      "---  ------        --------------  -----  \n",
      " 0   company       96 non-null     object \n",
      " 1   price_rupiah  96 non-null     float64\n",
      " 2   diameter      96 non-null     float64\n",
      " 3   topping       96 non-null     object \n",
      " 4   variant       96 non-null     object \n",
      " 5   size          96 non-null     object \n",
      " 6   extra_sauce   96 non-null     object \n",
      " 7   extra_cheese  96 non-null     object \n",
      "dtypes: float64(2), object(6)\n",
      "memory usage: 8.8+ KB\n"
     ]
    }
   ],
   "source": [
    "df.info()"
   ]
  },
  {
   "cell_type": "code",
   "execution_count": 62,
   "id": "b081cb52",
   "metadata": {},
   "outputs": [
    {
     "name": "stdout",
     "output_type": "stream",
     "text": [
      "                            OLS Regression Results                            \n",
      "==============================================================================\n",
      "Dep. Variable:           price_rupiah   R-squared:                       0.866\n",
      "Model:                            OLS   Adj. R-squared:                  0.828\n",
      "Method:                 Least Squares   F-statistic:                     23.04\n",
      "Date:                Tue, 01 Mar 2022   Prob (F-statistic):           5.04e-17\n",
      "Time:                        00:42:58   Log-Likelihood:                -695.33\n",
      "No. Observations:                  65   AIC:                             1421.\n",
      "Df Residuals:                      50   BIC:                             1453.\n",
      "Df Model:                          14                                         \n",
      "Covariance Type:            nonrobust                                         \n",
      "===============================================================================================\n",
      "                                  coef    std err          t      P>|t|      [0.025      0.975]\n",
      "-----------------------------------------------------------------------------------------------\n",
      "Intercept                   -2.852e+04   1.33e+04     -2.150      0.036   -5.52e+04   -1881.036\n",
      "variant[T.american_classic] -8500.0000   9966.308     -0.853      0.398   -2.85e+04    1.15e+04\n",
      "variant[T.classic]          -2.406e+04   6434.082     -3.740      0.000    -3.7e+04   -1.11e+04\n",
      "variant[T.crunchy]          -1.633e+04   7935.585     -2.057      0.045   -3.23e+04    -386.242\n",
      "variant[T.double_decker]      3.18e+04   7935.585      4.007      0.000    1.59e+04    4.77e+04\n",
      "variant[T.double_mix]        2.603e+04   7484.691      3.478      0.001     1.1e+04    4.11e+04\n",
      "variant[T.double_signature]  3.215e+04   1.01e+04      3.169      0.003    1.18e+04    5.25e+04\n",
      "variant[T.extravaganza]     -8500.0000   9966.308     -0.853      0.398   -2.85e+04    1.15e+04\n",
      "variant[T.gournet_greek]     4000.0000   9966.308      0.401      0.690    -1.6e+04     2.4e+04\n",
      "variant[T.italian_veggie]       -2e+04   9966.308     -2.007      0.050      -4e+04      17.919\n",
      "variant[T.meat_lovers]       3942.1481   5913.903      0.667      0.508   -7936.275    1.58e+04\n",
      "variant[T.neptune_tuna]      -1.45e+04   9966.308     -1.455      0.152   -3.45e+04    5517.919\n",
      "variant[T.new_york]          -2.32e+04   8739.719     -2.654      0.011   -4.08e+04   -5644.424\n",
      "variant[T.spicy tuna]       -2000.0000   9966.308     -0.201      0.842    -2.2e+04     1.8e+04\n",
      "diameter                     8924.6667    945.487      9.439      0.000    7025.600    1.08e+04\n",
      "==============================================================================\n",
      "Omnibus:                        0.133   Durbin-Watson:                   1.834\n",
      "Prob(Omnibus):                  0.936   Jarque-Bera (JB):                0.332\n",
      "Skew:                          -0.013   Prob(JB):                        0.847\n",
      "Kurtosis:                       2.651   Cond. No.                         185.\n",
      "==============================================================================\n",
      "\n",
      "Notes:\n",
      "[1] Standard Errors assume that the covariance matrix of the errors is correctly specified.\n"
     ]
    }
   ],
   "source": [
    "model1_1=smf.ols(formula='price_rupiah ~ variant + diameter'\n",
    "               ,data=df_train).fit()\n",
    "print(model1_1.summary()) "
   ]
  },
  {
   "cell_type": "code",
   "execution_count": 63,
   "id": "15e50762",
   "metadata": {},
   "outputs": [
    {
     "name": "stdout",
     "output_type": "stream",
     "text": [
      "                            OLS Regression Results                            \n",
      "==============================================================================\n",
      "Dep. Variable:           price_rupiah   R-squared:                       0.876\n",
      "Model:                            OLS   Adj. R-squared:                  0.829\n",
      "Method:                 Least Squares   F-statistic:                     18.77\n",
      "Date:                Tue, 01 Mar 2022   Prob (F-statistic):           4.93e-22\n",
      "Time:                        00:43:14   Log-Likelihood:                -1019.2\n",
      "No. Observations:                  96   AIC:                             2092.\n",
      "Df Residuals:                      69   BIC:                             2162.\n",
      "Df Model:                          26                                         \n",
      "Covariance Type:            nonrobust                                         \n",
      "===============================================================================================\n",
      "                                  coef    std err          t      P>|t|      [0.025      0.975]\n",
      "-----------------------------------------------------------------------------------------------\n",
      "Intercept                   -1.893e+04   3.09e+04     -0.612      0.543   -8.07e+04    4.28e+04\n",
      "topping[T.black papper]      1096.0557   7909.817      0.139      0.890   -1.47e+04    1.69e+04\n",
      "topping[T.chicken]          -4252.4874   5052.260     -0.842      0.403   -1.43e+04    5826.496\n",
      "topping[T.meat]              1641.2889   6784.062      0.242      0.810   -1.19e+04    1.52e+04\n",
      "topping[T.mozzarella]         354.2684   5466.459      0.065      0.949   -1.06e+04    1.13e+04\n",
      "topping[T.mushrooms]         4810.6518   5506.621      0.874      0.385   -6174.757    1.58e+04\n",
      "topping[T.onion]            -1.087e+04   1.54e+04     -0.704      0.484   -4.17e+04    1.99e+04\n",
      "topping[T.sausage]            760.0172   8480.435      0.090      0.929   -1.62e+04    1.77e+04\n",
      "topping[T.smoked beef]       1909.6515   4773.167      0.400      0.690   -7612.556    1.14e+04\n",
      "topping[T.tuna]               760.0172   7436.734      0.102      0.919   -1.41e+04    1.56e+04\n",
      "topping[T.vegetables]       -4321.4197   1.23e+04     -0.351      0.727   -2.89e+04    2.02e+04\n",
      "variant[T.american_classic] -1.082e+04   8111.146     -1.334      0.187    -2.7e+04    5359.874\n",
      "variant[T.classic]          -2.052e+04   4184.478     -4.905      0.000   -2.89e+04   -1.22e+04\n",
      "variant[T.crunchy]          -1.277e+04   5042.743     -2.533      0.014   -2.28e+04   -2713.488\n",
      "variant[T.double_decker]      3.58e+04   5336.749      6.708      0.000    2.51e+04    4.64e+04\n",
      "variant[T.double_mix]        1.027e+04   1.72e+04      0.595      0.554   -2.41e+04    4.47e+04\n",
      "variant[T.double_signature]  1.155e+04   1.74e+04      0.665      0.508   -2.31e+04    4.62e+04\n",
      "variant[T.extravaganza]      -482.3769   1.04e+04     -0.046      0.963   -2.13e+04    2.03e+04\n",
      "variant[T.gournet_greek]     6000.0000   1.65e+04      0.364      0.717   -2.68e+04    3.88e+04\n",
      "variant[T.italian_veggie]   -1.292e+04   1.68e+04     -0.768      0.445   -4.65e+04    2.06e+04\n",
      "variant[T.meat_lovers]      -7381.2716   1.12e+04     -0.661      0.511   -2.97e+04    1.49e+04\n",
      "variant[T.neptune_tuna]      -1.25e+04   1.16e+04     -1.074      0.287   -3.57e+04    1.07e+04\n",
      "variant[T.new_york]         -2.488e+04   1.44e+04     -1.731      0.088   -5.35e+04    3793.876\n",
      "variant[T.spicy tuna]        3.567e-11   1.16e+04   3.06e-15      1.000   -2.32e+04    2.32e+04\n",
      "size[T.jumbo]                3082.7200    1.5e+04      0.205      0.838   -2.69e+04    3.31e+04\n",
      "size[T.large]                -342.9910   7168.956     -0.048      0.962   -1.46e+04     1.4e+04\n",
      "size[T.medium]              -9621.3291   4026.657     -2.389      0.020   -1.77e+04   -1588.369\n",
      "size[T.reguler]              1.283e+04   7948.892      1.613      0.111   -3032.438    2.87e+04\n",
      "extra_cheese[T.yes]         -5081.4369   3396.538     -1.496      0.139   -1.19e+04    1694.472\n",
      "diameter                     8748.9566   2725.393      3.210      0.002    3311.947    1.42e+04\n",
      "==============================================================================\n",
      "Omnibus:                        1.940   Durbin-Watson:                   1.217\n",
      "Prob(Omnibus):                  0.379   Jarque-Bera (JB):                1.804\n",
      "Skew:                           0.332   Prob(JB):                        0.406\n",
      "Kurtosis:                       2.905   Cond. No.                     7.05e+16\n",
      "==============================================================================\n",
      "\n",
      "Notes:\n",
      "[1] Standard Errors assume that the covariance matrix of the errors is correctly specified.\n",
      "[2] The smallest eigenvalue is 3.74e-30. This might indicate that there are\n",
      "strong multicollinearity problems or that the design matrix is singular.\n"
     ]
    }
   ],
   "source": [
    "model1_2=smf.ols(formula='price_rupiah~diameter+topping+variant+size+extra_cheese'\n",
    "               ,data=df).fit()\n",
    "print(model1_2.summary())"
   ]
  },
  {
   "cell_type": "markdown",
   "id": "61523065",
   "metadata": {},
   "source": [
    "### Using SGD method "
   ]
  },
  {
   "cell_type": "code",
   "execution_count": 64,
   "id": "9879e4a7",
   "metadata": {},
   "outputs": [],
   "source": [
    "from sklearn.preprocessing import StandardScaler\n",
    "from sklearn.linear_model import SGDRegressor\n",
    "from sklearn.metrics import mean_squared_error"
   ]
  },
  {
   "cell_type": "code",
   "execution_count": 66,
   "id": "e63976f3",
   "metadata": {},
   "outputs": [],
   "source": [
    "X = df.drop(['price_rupiah'], axis=1)\n",
    "y = df['price_rupiah']"
   ]
  },
  {
   "cell_type": "code",
   "execution_count": 67,
   "id": "dd34d7be",
   "metadata": {},
   "outputs": [
    {
     "data": {
      "text/plain": [
       "(96, 7)"
      ]
     },
     "execution_count": 67,
     "metadata": {},
     "output_type": "execute_result"
    }
   ],
   "source": [
    "X.shape"
   ]
  },
  {
   "cell_type": "code",
   "execution_count": 68,
   "id": "30646978",
   "metadata": {},
   "outputs": [
    {
     "data": {
      "text/plain": [
       "(96,)"
      ]
     },
     "execution_count": 68,
     "metadata": {},
     "output_type": "execute_result"
    }
   ],
   "source": [
    "y.shape"
   ]
  },
  {
   "cell_type": "code",
   "execution_count": 69,
   "id": "817a28ea",
   "metadata": {},
   "outputs": [],
   "source": [
    "#Splitting data\n",
    "X_train, X_test, y_train, y_test = train_test_split(X, y, test_size=0.3, random_state=42)"
   ]
  },
  {
   "cell_type": "code",
   "execution_count": 70,
   "id": "23a3d325",
   "metadata": {},
   "outputs": [],
   "source": [
    "from sklearn.preprocessing import LabelEncoder\n",
    "\n",
    "le = LabelEncoder()\n",
    "var_mod = X_train.select_dtypes(include='object').columns\n",
    "for i in var_mod:\n",
    "    X_train[i] = le.fit_transform(X_train[i])"
   ]
  },
  {
   "cell_type": "code",
   "execution_count": 71,
   "id": "2925425b",
   "metadata": {},
   "outputs": [],
   "source": [
    "from sklearn.preprocessing import LabelEncoder\n",
    "\n",
    "le = LabelEncoder()\n",
    "var_mod = X_test.select_dtypes(include='object').columns\n",
    "for i in var_mod:\n",
    "    X_test[i] = le.fit_transform(X_test[i])"
   ]
  },
  {
   "cell_type": "code",
   "execution_count": 72,
   "id": "51c20dbe",
   "metadata": {},
   "outputs": [],
   "source": [
    "#Standardizing the data\n",
    "sc_x = StandardScaler()\n",
    "X_train=sc_x.fit_transform(X_train)\n",
    "X_test=sc_x.transform(X_test)"
   ]
  },
  {
   "cell_type": "code",
   "execution_count": 73,
   "id": "146381a2",
   "metadata": {},
   "outputs": [
    {
     "data": {
      "text/plain": [
       "(67, 7)"
      ]
     },
     "execution_count": 73,
     "metadata": {},
     "output_type": "execute_result"
    }
   ],
   "source": [
    "X_train.shape"
   ]
  },
  {
   "cell_type": "code",
   "execution_count": 74,
   "id": "900eb966",
   "metadata": {},
   "outputs": [
    {
     "data": {
      "text/plain": [
       "(29, 7)"
      ]
     },
     "execution_count": 74,
     "metadata": {},
     "output_type": "execute_result"
    }
   ],
   "source": [
    "X_test.shape"
   ]
  },
  {
   "cell_type": "code",
   "execution_count": 75,
   "id": "12e21b20",
   "metadata": {},
   "outputs": [
    {
     "data": {
      "text/plain": [
       "(67,)"
      ]
     },
     "execution_count": 75,
     "metadata": {},
     "output_type": "execute_result"
    }
   ],
   "source": [
    "y_train.shape"
   ]
  },
  {
   "cell_type": "code",
   "execution_count": 76,
   "id": "2eb38d3e",
   "metadata": {},
   "outputs": [
    {
     "data": {
      "text/plain": [
       "(29,)"
      ]
     },
     "execution_count": 76,
     "metadata": {},
     "output_type": "execute_result"
    }
   ],
   "source": [
    "y_test.shape"
   ]
  },
  {
   "cell_type": "code",
   "execution_count": 77,
   "id": "e76a8f0c",
   "metadata": {},
   "outputs": [],
   "source": [
    "model=SGDRegressor()"
   ]
  },
  {
   "cell_type": "code",
   "execution_count": 78,
   "id": "a5930562",
   "metadata": {},
   "outputs": [
    {
     "data": {
      "text/plain": [
       "SGDRegressor()"
      ]
     },
     "execution_count": 78,
     "metadata": {},
     "output_type": "execute_result"
    }
   ],
   "source": [
    "model.fit(X_train,y_train)"
   ]
  },
  {
   "cell_type": "code",
   "execution_count": 88,
   "id": "b25ec379",
   "metadata": {},
   "outputs": [
    {
     "name": "stdout",
     "output_type": "stream",
     "text": [
      "R Squared: 0.6550459742998569\n"
     ]
    }
   ],
   "source": [
    "score=model.score(X_train,y_train)\n",
    "print('R Squared:',score)"
   ]
  },
  {
   "cell_type": "code",
   "execution_count": 80,
   "id": "93b54481",
   "metadata": {},
   "outputs": [],
   "source": [
    "#PREDICTION\n",
    "y_pred=model.predict(X_test)"
   ]
  },
  {
   "cell_type": "markdown",
   "id": "3918935a",
   "metadata": {},
   "source": [
    "### RMSE "
   ]
  },
  {
   "cell_type": "code",
   "execution_count": 87,
   "id": "3d2f147a",
   "metadata": {},
   "outputs": [
    {
     "name": "stdout",
     "output_type": "stream",
     "text": [
      "RMSE: 20315.932197470025\n"
     ]
    }
   ],
   "source": [
    "mse=mean_squared_error(y_test,y_pred)\n",
    "print('RMSE:',np.sqrt(mse))"
   ]
  },
  {
   "cell_type": "code",
   "execution_count": null,
   "id": "1072c705",
   "metadata": {},
   "outputs": [],
   "source": []
  }
 ],
 "metadata": {
  "kernelspec": {
   "display_name": "Python 3",
   "language": "python",
   "name": "python3"
  },
  "language_info": {
   "codemirror_mode": {
    "name": "ipython",
    "version": 3
   },
   "file_extension": ".py",
   "mimetype": "text/x-python",
   "name": "python",
   "nbconvert_exporter": "python",
   "pygments_lexer": "ipython3",
   "version": "3.8.8"
  }
 },
 "nbformat": 4,
 "nbformat_minor": 5
}
